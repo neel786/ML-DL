{
  "nbformat": 4,
  "nbformat_minor": 0,
  "metadata": {
    "colab": {
      "provenance": [],
      "authorship_tag": "ABX9TyOTtrLJDiQaDFhzEqVp9BKO",
      "include_colab_link": true
    },
    "kernelspec": {
      "name": "python3",
      "display_name": "Python 3"
    },
    "language_info": {
      "name": "python"
    }
  },
  "cells": [
    {
      "cell_type": "markdown",
      "metadata": {
        "id": "view-in-github",
        "colab_type": "text"
      },
      "source": [
        "<a href=\"https://colab.research.google.com/github/neel786/ML-DL/blob/main/8_HyperParameterTuning.ipynb\" target=\"_parent\"><img src=\"https://colab.research.google.com/assets/colab-badge.svg\" alt=\"Open In Colab\"/></a>"
      ]
    },
    {
      "cell_type": "code",
      "execution_count": 1,
      "metadata": {
        "id": "ewywIw8OqtZj"
      },
      "outputs": [],
      "source": [
        "from sklearn.datasets import load_digits\n",
        "digits = load_digits()\n",
        "X = digits.data\n",
        "y = digits.target"
      ]
    },
    {
      "cell_type": "markdown",
      "source": [
        "#Define Classifiers and Parameter Grids"
      ],
      "metadata": {
        "id": "XOwYdeY1rLgk"
      }
    },
    {
      "cell_type": "code",
      "source": [
        "from sklearn import svm\n",
        "from sklearn.ensemble import RandomForestClassifier\n",
        "from sklearn.linear_model import LogisticRegression\n",
        "from sklearn.naive_bayes import GaussianNB, MultinomialNB\n",
        "from sklearn.tree import DecisionTreeClassifier\n",
        "from sklearn.model_selection import GridSearchCV"
      ],
      "metadata": {
        "id": "-8cmN9FdrEBZ"
      },
      "execution_count": 2,
      "outputs": []
    },
    {
      "cell_type": "code",
      "source": [
        "# Define the models and parameters\n",
        "classifiers = {\n",
        "    'SVM': (svm.SVC(), {\n",
        "        'C': [0.1, 1, 10],\n",
        "        'kernel': ['rbf', 'linear']\n",
        "    }),\n",
        "    'Random Forest': (RandomForestClassifier(), {\n",
        "        'n_estimators': [50, 100, 150],\n",
        "        'max_features': ['sqrt', 'log2']\n",
        "    }),\n",
        "    'Logistic Regression': (LogisticRegression(max_iter=1000), {\n",
        "        'C': [0.1, 1, 10]\n",
        "    }),\n",
        "    'Gaussian Naive Bayes': (GaussianNB(), {}),\n",
        "    'Multinomial Naive Bayes': (MultinomialNB(), {\n",
        "        'alpha': [0.1, 1, 10]\n",
        "    }),\n",
        "    'Decision Tree': (DecisionTreeClassifier(), {\n",
        "        'max_depth': [5, 10, 15],\n",
        "        'min_samples_split': [2, 5, 10]\n",
        "    })\n",
        "}"
      ],
      "metadata": {
        "id": "s1ZnDV7Hrb0B"
      },
      "execution_count": 3,
      "outputs": []
    },
    {
      "cell_type": "markdown",
      "source": [
        "# Run Grid Search"
      ],
      "metadata": {
        "id": "DB7BQFE7sogO"
      }
    },
    {
      "cell_type": "code",
      "source": [
        "best_classifier = None\n",
        "best_score = 0\n",
        "best_params = None\n",
        "\n",
        "for name, (model, params) in classifiers.items():\n",
        "    clf = GridSearchCV(model, params, cv=5, scoring='accuracy')\n",
        "    clf.fit(X, y)\n",
        "    print(f\"{name}: Best Score: {clf.best_score_} with params {clf.best_params_}\")\n",
        "    if clf.best_score_ > best_score:\n",
        "        best_score = clf.best_score_\n",
        "        best_classifier = name\n",
        "        best_params = clf.best_params_"
      ],
      "metadata": {
        "colab": {
          "base_uri": "https://localhost:8080/"
        },
        "id": "MWJuCBWFrkjc",
        "outputId": "19bd183d-a090-4622-80c8-5fdb7d84b3fb"
      },
      "execution_count": 4,
      "outputs": [
        {
          "output_type": "stream",
          "name": "stdout",
          "text": [
            "SVM: Best Score: 0.9738502011761063 with params {'C': 10, 'kernel': 'rbf'}\n",
            "Random Forest: Best Score: 0.9415970287836583 with params {'max_features': 'log2', 'n_estimators': 50}\n",
            "Logistic Regression: Best Score: 0.918217270194986 with params {'C': 0.1}\n",
            "Gaussian Naive Bayes: Best Score: 0.8069281956050759 with params {}\n",
            "Multinomial Naive Bayes: Best Score: 0.8742463633549985 with params {'alpha': 10}\n",
            "Decision Tree: Best Score: 0.7880331166821417 with params {'max_depth': 10, 'min_samples_split': 2}\n"
          ]
        }
      ]
    },
    {
      "cell_type": "code",
      "source": [
        "print(f\"Best Classifier: {best_classifier} with a score of {best_score}\")\n",
        "print(f\"Optimal Parameters: {best_params}\")"
      ],
      "metadata": {
        "colab": {
          "base_uri": "https://localhost:8080/"
        },
        "id": "eWnd_vPQtDhS",
        "outputId": "56ccc80d-0ccb-46ca-8a97-3da4e9378a4a"
      },
      "execution_count": 5,
      "outputs": [
        {
          "output_type": "stream",
          "name": "stdout",
          "text": [
            "Best Classifier: SVM with a score of 0.9738502011761063\n",
            "Optimal Parameters: {'C': 10, 'kernel': 'rbf'}\n"
          ]
        }
      ]
    },
    {
      "cell_type": "code",
      "source": [],
      "metadata": {
        "id": "9T5PwQwLtUhh"
      },
      "execution_count": null,
      "outputs": []
    }
  ]
}